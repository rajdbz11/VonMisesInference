{
 "cells": [
  {
   "cell_type": "code",
   "execution_count": 1,
   "metadata": {},
   "outputs": [],
   "source": [
    "%matplotlib inline\n",
    "import numpy as np\n",
    "from numpy import pi\n",
    "\n",
    "from scipy import signal\n",
    "from scipy import sparse\n",
    "from scipy import special\n",
    "from scipy.optimize import *\n",
    "from scipy.stats import vonmises\n",
    "\n",
    "from sklearn.datasets import make_sparse_spd_matrix\n",
    "\n",
    "import matplotlib.pyplot as plt"
   ]
  },
  {
   "cell_type": "code",
   "execution_count": 2,
   "metadata": {},
   "outputs": [],
   "source": [
    "# LUT for Inverse Bessel function\n",
    "N = 5000 \n",
    "x = np.linspace(0,10,N)\n",
    "y = special.iv(0,x) #modified Bessel function of first kind and order 0\n",
    "LUT_IB = np.zeros([N,2])\n",
    "LUT_IB[:,0] = y\n",
    "LUT_IB[:,1] = x\n",
    "del x, y, N"
   ]
  },
  {
   "cell_type": "code",
   "execution_count": 3,
   "metadata": {},
   "outputs": [],
   "source": [
    "def InvBesselI0(y,LUT_IB):\n",
    "    # assuming x is a scalar\n",
    "    idx1 = np.nonzero(y > LUT_IB[:,0])[0]\n",
    "    idx2 = np.nonzero(y < LUT_IB[:,0])[0]\n",
    "    if len(idx1) == 0:\n",
    "        z = LUT_IB[0,1]\n",
    "    elif  len(idx2) == 0:\n",
    "        z = LUT_IB[-1,1]\n",
    "    else:\n",
    "        # now do linear interpolation\n",
    "        idx1 = idx1[-1]\n",
    "        idx2 = idx2[0]\n",
    "        y1 = LUT_IB[idx1,0]\n",
    "        y2 = LUT_IB[idx2,0]\n",
    "        z1 = LUT_IB[idx1,1]\n",
    "        z2 = LUT_IB[idx2,1]\n",
    "        z = z1 + (z2-z1)*(y-y1)/(y2-y1)\n",
    "        \n",
    "    return z"
   ]
  },
  {
   "cell_type": "code",
   "execution_count": 4,
   "metadata": {},
   "outputs": [
    {
     "data": {
      "image/png": "[encoded data removed]",
      "text/plain": [
       "<matplotlib.figure.Figure at 0x1c0ae0af98>"
      ]
     },
     "metadata": {},
     "output_type": "display_data"
    }
   ],
   "source": [
    "# check if inverse function works\n",
    "y = np.linspace(0,2500,5000)\n",
    "yinv = np.zeros([5000])\n",
    "for k in range(5000):\n",
    "    yinv[k] = InvBesselI0(y[k],LUT_IB)\n",
    "    \n",
    "plt.plot(yinv,y)\n",
    "plt.plot(np.linspace(0,10,1000),special.iv(0,np.linspace(0,10,1000)))\n",
    "plt.xlabel('x')\n",
    "plt.title('Modified Bessel function of first kind and order 0')\n",
    "plt.show()"
   ]
  },
  {
   "cell_type": "code",
   "execution_count": 5,
   "metadata": {},
   "outputs": [],
   "source": [
    "# Function to compute the trigonometric moment Alpha0 \n",
    "\n",
    "def Alpha0(a,b,l_ij,mu):\n",
    "    # assuming the parameters are scalars\n",
    "    x = np.linspace(-pi,pi,1000)\n",
    "    dx = x[1] - x[0]\n",
    "    k = np.abs(l_ij*np.sin(x - mu))\n",
    "    return np.sum(np.exp(a*np.cos(x) + b*np.sin(x))*special.iv(0,k))*dx\n"
   ]
  },
  {
   "cell_type": "code",
   "execution_count": 9,
   "metadata": {},
   "outputs": [
    {
     "name": "stdout",
     "output_type": "stream",
     "text": [
      "Min eig value of K - L = 0.10855385812167295\n"
     ]
    },
    {
     "data": {
      "image/png": "[encoded data removed]",
      "text/plain": [
       "<matplotlib.figure.Figure at 0x1c0ae80128>"
      ]
     },
     "metadata": {},
     "output_type": "display_data"
    }
   ],
   "source": [
    "Nx = 10 # No. of variables\n",
    "\n",
    "KVec = 1 + 2*np.random.rand(Nx) #concentration vector\n",
    "MuVec = np.random.rand(Nx)*2*pi - pi #preferred orientations\n",
    "MuVec = np.zeros(Nx)\n",
    "\n",
    "LMat = 0.5*np.tril(sparse.random(Nx, Nx, density=0.6).A,-1)\n",
    "LMat = LMat + LMat.T #interaction matrix\n",
    "\n",
    "plt.imshow((LMat != 0)*1)\n",
    "plt.title('Adjacency matrix')\n",
    "\n",
    "# Check if K - L is positive definite\n",
    "E = np.linalg.eigvals(np.diag(KVec) - LMat)\n",
    "if min(E) < 0:\n",
    "    KVec = KVec - min(E) + 0.1\n",
    "    \n",
    "print('Min eig value of K - L =',min(np.linalg.eigvals(np.diag(KVec) - LMat)))\n",
    "\n"
   ]
  },
  {
   "cell_type": "code",
   "execution_count": 10,
   "metadata": {},
   "outputs": [],
   "source": [
    "# function for Von Mises EP\n",
    "\n",
    "def VMEP(KVec, MuVec, LMat, lam):\n",
    "    \"\"\"\n",
    "    Function that implements Expectation Propagation for a pairwise Von Mises graphical model\n",
    "    using trigometric moment matching.\n",
    "    Inputs:\n",
    "        KVec:  concentration parameters\n",
    "        MuVec: preferred orientations\n",
    "        LMat:  interaction matrix\n",
    "        lam:   relaxation for updates, between 0 and 1\n",
    "   \n",
    "    Outputs: \n",
    "        AVec: vector of marginal cosine natural parameters\n",
    "        BVec: vector of marginal sine natural parameters\n",
    "        AMat: time series of marginal cosine natural parameters\n",
    "        BMat: time series of marginal sine natural parameters\n",
    "    \"\"\"\n",
    "    \n",
    "    N = KVec.shape[0]\n",
    "    \n",
    "    Ad = (LMat != 0)*1 #adjacency matrix \n",
    "    \n",
    "    # initialize the parameters of the messages\n",
    "    # MA[i,j] corresponds to cosine parameter of the message sent from node i to node j\n",
    "    # MB[i,j] corresponds to sine parameter of the message sent from node i to node j\n",
    "    \n",
    "    MA    = np.zeros([N,N])\n",
    "    MB    = np.zeros([N,N])\n",
    "    \n",
    "    MAnew = np.zeros([N,N])\n",
    "    MBnew = np.zeros([N,N])\n",
    "    \n",
    "    T = 500 # max no. of iteration\n",
    "    eps = 1e-6 #tolerance for convergence\n",
    "    \n",
    "    AVec = np.zeros([N])\n",
    "    BVec = np.zeros([N])\n",
    "    AMat = np.zeros([N,T+1])\n",
    "    BMat = np.zeros([N,T+1])\n",
    "    \n",
    "    CostVec = np.zeros([T]) # cost is norm(m(t) - m(t-1))\n",
    "    \n",
    "    # Input natural parameters: Convert KVec and MuVec to Ainp and Binp\n",
    "    Ainp = KVec*np.cos(MuVec)\n",
    "    Binp = KVec*np.sin(MuVec)\n",
    "    \n",
    "    AMat[:,0] = Ainp\n",
    "    BMat[:,0] = Binp\n",
    "    \n",
    "    for t in range(T):\n",
    "        for i in range(N):\n",
    "            for j in range(N):\n",
    "                if Ad[i,j]:\n",
    "                    # update parameters of message from i -> j\n",
    "                    # 1. Multiply all the incoming messages to i, expect j->i\n",
    "                    A = Ainp[i] + np.sum(MA[:,i]) - MA[j,i]\n",
    "                    B  = Binp[i] + np.sum(MB[:,i]) - MB[j,i]\n",
    "                    # 2. Find trigonometric moment alpha0\n",
    "                    alpha0 = Alpha0(A,B,LMat[i,j],MuVec[i])\n",
    "                    # 3. Compute new message parameters based on moment matching\n",
    "                    Kij_new = InvBesselI0(alpha0,LUT_IB)\n",
    "                    Muij_new = MuVec[j] - pi/2\n",
    "                    # 4. Convert to natural parameters\n",
    "                    MAnew[i,j] = (1-lam)*MA[i,j] + lam*Kij_new*np.cos(Muij_new)\n",
    "                    MBnew[i,j] = (1-lam)*MB[i,j] + lam*Kij_new*np.sin(Muij_new)\n",
    "          \n",
    "        # now compute the beliefs\n",
    "        AVec = Ainp + np.sum(MAnew,axis=0)\n",
    "        BVec = Binp + np.sum(MBnew,axis=0)\n",
    "        AMat[:,t+1] = 1*AVec\n",
    "        BMat[:,t+1] = 1*BVec\n",
    "        \n",
    "        # Check if the messages have converged\n",
    "        OldParams = np.concatenate([MA.flatten(), MB.flatten()])\n",
    "        NewParams = np.concatenate([MAnew.flatten(), MBnew.flatten()])\n",
    "        RMSE = np.linalg.norm(OldParams - NewParams)/np.sqrt(np.sum(Ad)) \n",
    "        CostVec[t] = RMSE\n",
    "            \n",
    "        MA = 1*MAnew\n",
    "        MB = 1*MBnew \n",
    "        \n",
    "        if  RMSE <= eps:\n",
    "            print('Converged in', t, 'iterations')\n",
    "            break\n",
    "        \n",
    "        \n",
    "    return AVec, BVec, AMat[:,0:t+1], BMat[:,0:t+1], CostVec[0:t]"
   ]
  },
  {
   "cell_type": "code",
   "execution_count": 11,
   "metadata": {},
   "outputs": [
    {
     "name": "stdout",
     "output_type": "stream",
     "text": [
      "Converged in 3 iterations\n"
     ]
    }
   ],
   "source": [
    "AVec, BVec, AMat, BMat, CostVec = VMEP(KVec, MuVec, LMat, 1)"
   ]
  },
  {
   "cell_type": "code",
   "execution_count": 13,
   "metadata": {},
   "outputs": [
    {
     "data": {
      "text/plain": [
       "array([[  0.        , -20.36401115, -50.        , -50.        ],\n",
       "       [  0.        , -25.02384897, -60.        , -60.        ],\n",
       "       [  0.        , -25.00277627, -60.        , -60.        ],\n",
       "       [  0.        , -26.25755762, -60.        , -60.        ],\n",
       "       [  0.        , -25.94417308, -60.        , -60.        ],\n",
       "       [  0.        , -19.80005789, -50.        , -50.        ],\n",
       "       [  0.        , -19.08509357, -50.        , -50.        ],\n",
       "       [  0.        , -12.39495108, -30.        , -30.        ],\n",
       "       [  0.        , -15.49518685, -39.58773003, -40.        ],\n",
       "       [  0.        , -16.11585893, -40.        , -40.        ]])"
      ]
     },
     "execution_count": 13,
     "metadata": {},
     "output_type": "execute_result"
    }
   ],
   "source": [
    "BMat"
   ]
  },
  {
   "cell_type": "code",
   "execution_count": 27,
   "metadata": {},
   "outputs": [],
   "source": [
    "N = KVec.shape[0]\n",
    "    \n",
    "Ad = (LMat != 0)*1 #adjacency matrix \n",
    "    \n",
    "# initialize the parameters of the messages\n",
    "# MA[i,j] corresponds to cosine parameter of the message sent from node i to node j\n",
    "# MB[i,j] corresponds to sine parameter of the message sent from node i to node j\n",
    "    \n",
    "MA    = np.zeros([N,N])\n",
    "MB    = np.zeros([N,N])\n",
    "    \n",
    "MAnew = np.zeros([N,N])\n",
    "MBnew = np.zeros([N,N])\n",
    "    \n",
    "T = 500 # max no. of iteration\n",
    "eps = 1e-6 #tolerance for convergence\n",
    "    \n",
    "AVec = np.zeros([N])\n",
    "BVec = np.zeros([N])\n",
    "AMat = np.zeros([N,T+1])\n",
    "BMat = np.zeros([N,T+1])\n",
    "    \n",
    "CostVec = np.zeros([T]) # cost is norm(m(t) - m(t-1))\n",
    "    \n",
    "# Input natural parameters: Convert KVec and MuVec to Ainp and Binp\n",
    "Ainp = KVec*np.cos(MuVec)\n",
    "Binp = KVec*np.sin(MuVec)\n",
    "    \n",
    "AMat[:,0] = Ainp\n",
    "BMat[:,0] = Binp"
   ]
  },
  {
   "cell_type": "code",
   "execution_count": 30,
   "metadata": {},
   "outputs": [],
   "source": [
    "i = 0; j = 2\n",
    "lam = 1\n",
    "A = Ainp[i] + np.sum(MA[:,i]) - MA[j,i]\n",
    "B  = Binp[i] + np.sum(MB[:,i]) - MB[j,i]\n",
    "alpha0 = Alpha0(A,B,LMat[i,j],MuVec[i])\n",
    "Kij_new = InvBesselI0(alpha0,LUT_IB)\n",
    "Muij_new = MuVec[j] - pi/2\n",
    "MAnew[i,j] = (1-lam)*MA[i,j] + lam*Kij_new*np.cos(Muij_new)\n",
    "MBnew[i,j] = (1-lam)*MB[i,j] + lam*Kij_new*np.sin(Muij_new)"
   ]
  },
  {
   "cell_type": "code",
   "execution_count": 20,
   "metadata": {},
   "outputs": [],
   "source": [
    "def vonMisesPDF(x,scale):\n",
    "    return vonmises.pdf(x,scale)\n",
    "\n",
    "def vonMises2(x,amp,scale, theta):\n",
    "    return amp*vonmises.pdf(x,scale, theta)"
   ]
  },
  {
   "cell_type": "code",
   "execution_count": 24,
   "metadata": {},
   "outputs": [
    {
     "name": "stdout",
     "output_type": "stream",
     "text": [
      "0.96130433188479\n"
     ]
    },
    {
     "data": {
      "image/png": "[encoded data removed]",
      "text/plain": [
       "<matplotlib.figure.Figure at 0x1c13ea8b38>"
      ]
     },
     "metadata": {},
     "output_type": "display_data"
    }
   ],
   "source": [
    "k1 = 1; k2 = 1; m1 = 0; m2 = 0; l = 0.5;\n",
    "x = np.linspace(-pi,pi,25)\n",
    "dx = x[1] - x[0]\n",
    "Marg = special.iv(0,np.sqrt(k2**2 + (l*np.sin(x - m1))**2))*np.exp(k1*np.cos(x - m1))\n",
    "Z = sum(Marg)*dx\n",
    "Marg = Marg/Z\n",
    "\n",
    "init_vals = [1] \n",
    "lb = [0]\n",
    "ub = [10]\n",
    "best_vals = curve_fit(vonMisesPDF, x-m1, Marg, p0=init_vals,bounds=(lb,ub))[0]\n",
    "khat = best_vals[0]\n",
    "\n",
    "plt.plot(x,Marg,'b')\n",
    "plt.plot(x,vonmises.pdf(x-m1,khat),'r')\n",
    "\n",
    "print(khat)"
   ]
  },
  {
   "cell_type": "code",
   "execution_count": 25,
   "metadata": {},
   "outputs": [
    {
     "data": {
      "text/plain": [
       "[<matplotlib.lines.Line2D at 0x1c148b82b0>]"
      ]
     },
     "execution_count": 25,
     "metadata": {},
     "output_type": "execute_result"
    },
    {
     "data": {
      "image/png": "[encoded data removed]",
      "text/plain": [
       "<matplotlib.figure.Figure at 0x1c14b18048>"
      ]
     },
     "metadata": {},
     "output_type": "display_data"
    }
   ],
   "source": [
    "Msg = 2*pi*special.iv(0,np.sqrt(k2**2 + (l*np.sin(x - m1))**2))\n",
    "plt.plot(x,Msg)"
   ]
  },
  {
   "cell_type": "code",
   "execution_count": 42,
   "metadata": {},
   "outputs": [],
   "source": [
    "# init_vals = [1, 0] \n",
    "# lb = [0,-pi]\n",
    "# ub = [10,pi]\n",
    "# best_vals = curve_fit(vonMisesPDF, x, Marg, p0=init_vals,bounds=(lb,ub))[0]\n",
    "# khat = best_vals[0]\n",
    "# mhat = best_vals[1]\n",
    "\n"
   ]
  }
 ],
 "metadata": {
  "kernelspec": {
   "display_name": "Python [conda env:anaconda]",
   "language": "python",
   "name": "conda-env-anaconda-py"
  },
  "language_info": {
   "codemirror_mode": {
    "name": "ipython",
    "version": 3
   },
   "file_extension": ".py",
   "mimetype": "text/x-python",
   "name": "python",
   "nbconvert_exporter": "python",
   "pygments_lexer": "ipython3",
   "version": "3.5.2"
  }
 },
 "nbformat": 4,
 "nbformat_minor": 2
}
