{
 "cells": [
  {
   "cell_type": "markdown",
   "metadata": {},
   "source": [
    "# Inference in multivariate von mises distributions"
   ]
  },
  {
   "cell_type": "code",
   "execution_count": 1,
   "metadata": {},
   "outputs": [],
   "source": [
    "%matplotlib inline\n",
    "from VonMisesFunctions import *"
   ]
  },
  {
   "cell_type": "code",
   "execution_count": 2,
   "metadata": {},
   "outputs": [],
   "source": [
    "\"\"\"\n",
    "Parameters\n",
    "\"\"\"\n",
    "# 1. BP parameters\n",
    "K = 30 # no. of discrete bins\n",
    "MaxIters, lam, eps = 500, 0.25, 1e-12\n",
    "\n",
    "# 2. Gibbs sampling parameters\n",
    "N_samples, T_burnin, T_skip = 4000, 2000, 50 # No. of samples to ignore for burn-in and, samples to skip\n",
    "\n",
    "bin_edges, bin_centers = pi*np.arange(0,K+1)/K - pi/2, pi*(np.arange(0,K)/K + 0.5/K - 1/2)"
   ]
  },
  {
   "cell_type": "code",
   "execution_count": 3,
   "metadata": {},
   "outputs": [
    {
     "name": "stdout",
     "output_type": "stream",
     "text": [
      "Connected graph\n"
     ]
    },
    {
     "data": {
      "image/png": "[encoded data removed]",
      "text/plain": [
       "<Figure size 432x288 with 1 Axes>"
      ]
     },
     "metadata": {},
     "output_type": "display_data"
    }
   ],
   "source": [
    "\"\"\"\n",
    "Generate the parameters of the graphical model\n",
    "\"\"\"\n",
    "\n",
    "Ns = 9 # No. of variables in the graphical model\n",
    "\n",
    "# Singleton factor parameters\n",
    "s_strength = 3\n",
    "KVec, MuVec = s_strength*np.random.rand(Ns), np.random.rand(Ns)*pi - pi/2 \n",
    "\n",
    "# Pairwise factor parameters\n",
    "c_sparsity, c_strength = 0.6, 2\n",
    "J = generateCouplings(Ns, c_sparsity, c_strength)\n",
    "\n",
    "AMat = (np.sum(np.abs(J),axis=2) != 0)*1  #Adjacency matrix  \n",
    "    \n",
    "print('Connected graph') if not(np.any(np.sum(AMat,axis=0) == 0)) else print('NOT a Connected graph')\n",
    "    \n",
    "plt.imshow(AMat)\n",
    "plt.title('Adjacency matrix')\n",
    "plt.xticks([]); plt.yticks([])\n",
    "plt.show()"
   ]
  },
  {
   "cell_type": "code",
   "execution_count": 4,
   "metadata": {},
   "outputs": [
    {
     "name": "stdout",
     "output_type": "stream",
     "text": [
      "Converged in 88 iterations\n",
      "Time taken for BP =  0.173 s\n"
     ]
    }
   ],
   "source": [
    "\"\"\"\n",
    "Run belief propagation\n",
    "\"\"\"\n",
    "\n",
    "Phi, Psi, messages_t, beliefs_t, err_t = BPWrapper(Ns, KVec, MuVec, J, K, MaxIters, lam, eps)\n",
    "BP_marginals = beliefs_t[:,:,-1]"
   ]
  },
  {
   "cell_type": "code",
   "execution_count": 5,
   "metadata": {},
   "outputs": [
    {
     "name": "stdout",
     "output_type": "stream",
     "text": [
      "Time taken for Gibbs sampling =  50.158 s\n"
     ]
    }
   ],
   "source": [
    "\"\"\"\n",
    "Run Gibbs sampler\n",
    "\"\"\"\n",
    "\n",
    "G_samples, G_marginals = GibbsSamplingWrapper(KVec, MuVec, J, K, N_samples, T_burnin, T_skip)"
   ]
  },
  {
   "cell_type": "code",
   "execution_count": 6,
   "metadata": {},
   "outputs": [
    {
     "data": {
      "image/png": "[encoded data removed]",
      "text/plain": [
       "<Figure size 1800x216 with 5 Axes>"
      ]
     },
     "metadata": {},
     "output_type": "display_data"
    }
   ],
   "source": [
    "\"\"\"\n",
    "Compare marginals from BP and Gibbs sampling\n",
    "\"\"\"\n",
    "bin_edges, bin_centers = pi*np.arange(0,K+1)/K - pi/2, pi*(np.arange(0,K)/K + 0.5/K - 1/2)\n",
    "\n",
    "M = 5 if Ns>4 else Ns+1\n",
    "\n",
    "pmax = max(np.ceil(np.max(BP_marginals)*100)/100,np.ceil(np.max(G_marginals)*100)/100)\n",
    "    \n",
    "fig, ax = plt.subplots(1,M,figsize=(5*M, 3))\n",
    "ax = ax.ravel()\n",
    "\n",
    "ax[0].plot([0,pmax],[0,pmax],'c')\n",
    "ax[0].plot(G_marginals.flatten(), BP_marginals.flatten(),'b.')\n",
    "ax[0].axis('square'); ax[0].axis([0,pmax,0,pmax])\n",
    "ax[0].set_xlabel('Gibbs marg prob.'); ax[0].set_ylabel('BP marg prob.');\n",
    "ax[0].set_xticks([0,pmax/2,pmax]); ax[0].set_yticks([0,pmax/2,pmax])\n",
    "\n",
    "for i in range(1,M):\n",
    "    ax[i].plot(bin_centers,BP_marginals[i-1],'r.')\n",
    "    ax[i].bar(bin_centers,G_marginals[i-1],width=pi/2/K,alpha=0.5)\n",
    "    \n",
    "    ax[i].axis([-pi/2,pi/2,0,pmax])\n",
    "    ax[i].set_xlabel('S'+str(i+1))\n",
    "    ax[i].set_xticks([-1.5,0,1.5]); ax[i].set_yticks([0,pmax/2,pmax])\n",
    "\n",
    "ax[1].set_ylabel('P(S)')\n",
    "ax[1].legend(['BP','Gibbs'])\n",
    "    \n",
    "plt.show()"
   ]
  },
  {
   "cell_type": "code",
   "execution_count": null,
   "metadata": {},
   "outputs": [],
   "source": []
  }
 ],
 "metadata": {
  "kernelspec": {
   "display_name": "Python [conda env:anaconda]",
   "language": "python",
   "name": "conda-env-anaconda-py"
  },
  "language_info": {
   "codemirror_mode": {
    "name": "ipython",
    "version": 3
   },
   "file_extension": ".py",
   "mimetype": "text/x-python",
   "name": "python",
   "nbconvert_exporter": "python",
   "pygments_lexer": "ipython3",
   "version": "3.5.6"
  }
 },
 "nbformat": 4,
 "nbformat_minor": 2
}
